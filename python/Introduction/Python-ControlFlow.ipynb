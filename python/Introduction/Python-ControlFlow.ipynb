{
 "cells": [
  {
   "cell_type": "markdown",
   "metadata": {},
   "source": [
    "[![Open In Colab](https://colab.research.google.com/assets/colab-badge.svg)](https://colab.research.google.com/github/rbg-research/AI-Training/blob/main/python/Introduction/Python-ControlFlow.ipynb)\n"
   ]
  },
  {
   "cell_type": "markdown",
   "metadata": {},
   "source": [
    "Decision-making statements in programming languages decide the direction of the flow of program execution. In Python, if else elif statement is used for decision making.\n",
    "\n",
    "# If Statement\n",
    "\n",
    "\"if\" statement is the most simple decision-making statement. It is used to decide whether a certain statement or block of statements will be executed or not i.e if a certain condition is true then a block of statement is executed otherwise not.\n",
    "\n",
    "Here, the condition after evaluation will be either true or false. \"if\" statement accepts boolean values – if the value is true then it will execute the block of statements below it otherwise not. We can use condition with bracket ‘(‘ ‘)’ also. \n",
    "\n",
    "As we know, python uses indentation to identify a block. So the block under an if statement will be identified as shown in the below example:  \n"
   ]
  },
  {
   "cell_type": "code",
   "execution_count": null,
   "metadata": {},
   "outputs": [],
   "source": [
    "## Syntax for if statement\n",
    "if condition:\n",
    "   statement1\n",
    "statement2\n",
    "\n",
    "#Here if the condition is true, if block will consider only statement1 to be inside its block."
   ]
  },
  {
   "cell_type": "code",
   "execution_count": null,
   "metadata": {},
   "outputs": [],
   "source": [
    "# Example of if statement\n",
    "\n",
    "# python program to illustrate If statement\n",
    "i = 10\n",
    " \n",
    "if (i > 15):\n",
    "    print(\"10 is less than 15\")\n",
    "print(\"I am Not in if\")\n",
    "\n",
    "## As the condition present in the if statement is false. So, the block below the if statement is not executed."
   ]
  },
  {
   "cell_type": "markdown",
   "metadata": {},
   "source": [
    "# if-else\n",
    "\n",
    "The if statement alone tells us that if a condition is true it will execute a block of statements and if the condition is false it won’t. But what if we want to do something else if the condition is false. Here comes the else statement. We can use the \"else statement\" with \"if statement\" to execute a block of code when the condition is \"false\". "
   ]
  },
  {
   "cell_type": "code",
   "execution_count": null,
   "metadata": {},
   "outputs": [],
   "source": [
    "## Syntax for if-else statement\n",
    "\n",
    "if (condition):\n",
    "    # Executes this block if\n",
    "    # condition is true\n",
    "else:\n",
    "    # Executes this block if\n",
    "    # condition is false"
   ]
  },
  {
   "cell_type": "code",
   "execution_count": null,
   "metadata": {},
   "outputs": [],
   "source": [
    "# Example of if-else staement\n",
    "\n",
    "# python program to illustrate If else statement\n",
    "i = 20\n",
    "if (i < 15):\n",
    "    print(\"i is smaller than 15\")\n",
    "    print(\"i'm in if Block\")\n",
    "else:\n",
    "    print(\"i is greater than 15\")\n",
    "    print(\"i'm in else Block\")\n",
    "print(\"i'm not in if and not in else Block\")\n",
    "\n",
    "## The block of code following the else statement is executed as the condition present in the if statement is false. "
   ]
  },
  {
   "cell_type": "markdown",
   "metadata": {},
   "source": [
    "# nested - if \n",
    "\n",
    "A nested if is an \"if statement\" that is the target of another \"if statement\". Nested if statements mean an \"if statement\" inside another \"if statement\".\n",
    "\n",
    "Python allows us to nest \"if statements\" within \"if statements\". i.e, we can place an if statement inside another if statement."
   ]
  },
  {
   "cell_type": "code",
   "execution_count": null,
   "metadata": {},
   "outputs": [],
   "source": [
    "## syntax for nested-if statements\n",
    "\n",
    "if (condition1):\n",
    "   # Executes when condition1 is true\n",
    "   if (condition2): \n",
    "      # Executes when condition2 is true\n",
    "   # if Block is end here\n",
    "# if Block is end here"
   ]
  },
  {
   "cell_type": "code",
   "execution_count": null,
   "metadata": {},
   "outputs": [],
   "source": [
    "## Example of nested-if statements\n",
    "\n",
    "# python program to illustrate nested If statement\n",
    "i = 10\n",
    "if (i == 10):\n",
    "   \n",
    "    #  First if statement\n",
    "    if (i < 15):\n",
    "        print(\"i is smaller than 15\")\n",
    "         \n",
    "    # Nested - if statement\n",
    "    # Will only be executed if statement above is true\n",
    "    if (i < 12):\n",
    "        print(\"i is smaller than 12 too\")\n",
    "    else:\n",
    "        print(\"i is greater than 15\")"
   ]
  },
  {
   "cell_type": "markdown",
   "metadata": {},
   "source": [
    "# if-elif-else ladder\n",
    "\n",
    "Here, a user can decide among multiple options. The if statements are executed from the top down. As soon as one of the conditions controlling the if is true, the statement associated with that if is executed, and the rest of the ladder is bypassed. If none of the conditions is true, then the final else statement will be executed."
   ]
  },
  {
   "cell_type": "code",
   "execution_count": null,
   "metadata": {},
   "outputs": [],
   "source": [
    "## Syntax for if-elif-else ladder\n",
    "\n",
    "if (condition):\n",
    "    statement\n",
    "elif (condition):\n",
    "    statement\n",
    ".\n",
    ".\n",
    "else:\n",
    "    statement"
   ]
  },
  {
   "cell_type": "code",
   "execution_count": null,
   "metadata": {},
   "outputs": [],
   "source": [
    "## Example of if-elif-else ladder\n",
    "\n",
    "# Python program to illustrate if-elif-else ladder\n",
    "i = 20\n",
    "if (i == 10):\n",
    "    print(\"i is 10\")\n",
    "elif (i == 15):\n",
    "    print(\"i is 15\")\n",
    "elif (i == 20):\n",
    "    print(\"i is 20\")\n",
    "else:\n",
    "    print(\"i is not present\")"
   ]
  },
  {
   "cell_type": "markdown",
   "metadata": {},
   "source": [
    "# Short-Hand if statements\n",
    "\n",
    "Whenever there is only a single statement to be executed inside the if block then shorthand if can be used. The statement can be put on the same line as the if statement."
   ]
  },
  {
   "cell_type": "code",
   "execution_count": null,
   "metadata": {},
   "outputs": [],
   "source": [
    "## Syntax of short-hand if statements\n",
    "\n",
    "if condition: statement"
   ]
  },
  {
   "cell_type": "code",
   "execution_count": null,
   "metadata": {},
   "outputs": [],
   "source": [
    "## Example of short-hand if statements\n",
    "\n",
    "# Python program to illustrate short hand if\n",
    "i = 10\n",
    "if i < 15: print(\"i is less than 15\")"
   ]
  },
  {
   "cell_type": "markdown",
   "metadata": {},
   "source": [
    "# Short-Hand if-else statement\n",
    "\n",
    "This can be used to write the if-else statements in a single line where there is only one statement to be executed in both if and else block. "
   ]
  },
  {
   "cell_type": "code",
   "execution_count": null,
   "metadata": {},
   "outputs": [],
   "source": [
    "## Syntax of short-hand if-else statement\n",
    "\n",
    "statement_when_True if condition else statement_when_False"
   ]
  },
  {
   "cell_type": "code",
   "execution_count": null,
   "metadata": {},
   "outputs": [],
   "source": [
    "## Example of short hand if-else statement\n",
    "\n",
    "# Python program to illustrate short hand if-else\n",
    "i = 20\n",
    "print(True) if i < 15 else print(False)"
   ]
  },
  {
   "cell_type": "markdown",
   "metadata": {},
   "source": [
    "# Python For Loop\n",
    "\n",
    "Python For loop is used for sequential traversal i.e. it is used for iterating over an iterable like string, tuple, list, etc. It falls under the category of definite iteration. Definite iterations mean the number of repetitions is specified explicitly in advance. "
   ]
  },
  {
   "cell_type": "code",
   "execution_count": null,
   "metadata": {},
   "outputs": [],
   "source": [
    "## Syntax of for loop\n",
    "\n",
    "for var in iterable:\n",
    "    # statements"
   ]
  },
  {
   "cell_type": "markdown",
   "metadata": {},
   "source": [
    "Here the iterable is a collection of objects like \"lists, tuples\". The indented statements inside the for loops are executed once for each item in an iterable. The variable \"var\" takes the value of the next item of the iterable each time through the loop."
   ]
  },
  {
   "cell_type": "code",
   "execution_count": null,
   "metadata": {},
   "outputs": [],
   "source": [
    "## Example of for loop\n",
    "\n",
    "# Python program to illustrate Iterating over a list\n",
    "print(\"List Iteration\")\n",
    "l = [\"welcome\", \"to\", \"RBG\"]\n",
    "for i in l:\n",
    "    print(i)\n",
    " \n",
    "# Iterating over a tuple (immutable)\n",
    "print(\"\\nTuple Iteration\")\n",
    "t = (\"welcome\", \"to\", \"RBG.AI\")\n",
    "for i in t:\n",
    "    print(i)\n",
    " \n",
    "# Iterating over a String\n",
    "print(\"\\nString Iteration\")\n",
    "s = \"RBG\"\n",
    "for i in s:\n",
    "    print(i)\n",
    " \n",
    "# Iterating over dictionary\n",
    "print(\"\\nDictionary Iteration\")\n",
    "d = dict()\n",
    "d['xyz'] = 123\n",
    "d['abc'] = 345\n",
    "for i in d:\n",
    "    print(\"% s % d\" % (i, d[i]))"
   ]
  },
  {
   "cell_type": "markdown",
   "metadata": {},
   "source": [
    "# Loop Control Statement\n",
    "\n",
    "Loop control statements change execution from its normal sequence. When execution leaves a scope, all automatic objects that were created in that scope are destroyed.\n",
    "\n",
    "# Continue statement\n",
    "\n",
    "Python continue Statement returns the control to the beginning of the loop."
   ]
  },
  {
   "cell_type": "code",
   "execution_count": null,
   "metadata": {},
   "outputs": [],
   "source": [
    "## Example of continue statement\n",
    "\n",
    "# Prints all letters except 'e' and 's'\n",
    "for letter in 'Welcome to RBG':\n",
    "    if letter == 'e' or letter == 'o':\n",
    "        continue\n",
    "    print('Current Letter :', letter)"
   ]
  },
  {
   "cell_type": "markdown",
   "metadata": {},
   "source": [
    "# Break Statement\n",
    "\n",
    "Python break statement brings control out of the loop."
   ]
  },
  {
   "cell_type": "code",
   "execution_count": null,
   "metadata": {},
   "outputs": [],
   "source": [
    "##Example of break statement\n",
    "\n",
    "#python program for dsemostrating break statement\n",
    "for letter in 'Welcome to RBG':\n",
    " \n",
    "    # break the loop as soon it sees 'e'\n",
    "    # or 's'\n",
    "    if letter == 'G' or letter == 'R':\n",
    "        break\n",
    " \n",
    "print('Current Letter :', letter)"
   ]
  },
  {
   "cell_type": "markdown",
   "metadata": {},
   "source": [
    "# Pass Statement\n",
    "\n",
    "The pass statement to write empty loops. Pass is also used for empty control statements, functions, and classes."
   ]
  },
  {
   "cell_type": "code",
   "execution_count": null,
   "metadata": {},
   "outputs": [],
   "source": [
    "# An empty loop\n",
    "for letter in 'Welcome to RBG':\n",
    "    pass\n",
    "print('Last Letter :', letter)"
   ]
  },
  {
   "cell_type": "markdown",
   "metadata": {},
   "source": [
    "# range() function\n",
    "\n",
    "Python range() is a built-in function that is used when a user needs to perform an action a specific number of times. \n",
    "\n",
    "The range() function is used to generate a sequence of numbers. Depending on how many arguments user is passing to the function, user can decide where that series of numbers will begin and end as well as how big the difference will be between one number and the next.range() "
   ]
  },
  {
   "cell_type": "code",
   "execution_count": null,
   "metadata": {},
   "outputs": [],
   "source": [
    "## Exmple of range() function\n",
    "# Python Program to show range() basics\n",
    " \n",
    "# printing a number\n",
    "for i in range(10):\n",
    "    print(i, end=\" \")\n",
    "print()\n",
    " \n",
    "# using range for iteration\n",
    "l = [10, 20, 30, 40]\n",
    "for i in range(len(l)):\n",
    "    print(l[i], end=\" \")\n",
    "print()\n",
    " \n",
    "# performing sum of first 10 numbers\n",
    "sum = 0\n",
    "for i in range(1, 10):\n",
    "    sum = sum + i\n",
    "print(\"Sum of first 10 numbers :\", sum)"
   ]
  },
  {
   "cell_type": "markdown",
   "metadata": {},
   "source": [
    "# Python for loop with else\n",
    "In most of the programming languages (C/C++, Java, etc), the use of else statements has been restricted with the if conditional statements. But Python also allows us to use the else condition with for loops. \n",
    "\n",
    "Note: The else block just after for/while is executed only when the loop is NOT terminated by a break statement "
   ]
  },
  {
   "cell_type": "code",
   "execution_count": null,
   "metadata": {},
   "outputs": [],
   "source": [
    "## Example of for loop with else statement\n",
    "\n",
    "# Python program to demonstrate for-else loop\n",
    "# for lopp without break statment \n",
    "for i in range(1, 4):\n",
    "    print(i)\n",
    "else:  \n",
    "    print(\"No Break\\n\")\n",
    "\n",
    "# for loop with break statement \n",
    "for i in range(1, 4):\n",
    "    print(i)\n",
    "    break\n",
    "else:  \n",
    "    print(\"No Break\")\n"
   ]
  },
  {
   "cell_type": "markdown",
   "metadata": {},
   "source": [
    "# While Loop\n",
    "\n",
    "Python While Loop is used to execute a block of statements repeatedly until a given condition is satisfied. And when the condition becomes false, the line immediately after the loop in the program is executed. While loop falls under the category of indefinite iteration. Indefinite iteration means that the number of times the loop is executed isn’t specified explicitly in advance. "
   ]
  },
  {
   "cell_type": "code",
   "execution_count": null,
   "metadata": {},
   "outputs": [],
   "source": [
    "## Syntax\n",
    "\n",
    "while expression:\n",
    "    statement(s)"
   ]
  },
  {
   "cell_type": "markdown",
   "metadata": {},
   "source": [
    "When a while loop is executed, expr is first evaluated in a Boolean context and if it is true, the loop body is executed. Then the expr is checked again, if it is still true then the body is executed again and this continues until the expression becomes false."
   ]
  },
  {
   "cell_type": "code",
   "execution_count": null,
   "metadata": {},
   "outputs": [],
   "source": [
    "# Python program to illustrate while loop\n",
    "count = 0\n",
    "while (count < 3):\n",
    "    count = count + 1\n",
    "    print(\"Hello RBG\")\n",
    "    \n",
    "##In the above example, the condition for while will be True as long as the counter variable (count) is less than 3. \n",
    "\n"
   ]
  },
  {
   "cell_type": "markdown",
   "metadata": {},
   "source": [
    "# Single statement while block\n",
    "\n",
    "Just like the if block, if the while block consists of a single statement we can declare the entire loop in a single line. If there are multiple statements in the block that makes up the loop body, they can be separated by semicolons (;). "
   ]
  },
  {
   "cell_type": "code",
   "execution_count": null,
   "metadata": {},
   "outputs": [],
   "source": [
    "# Python program to illustrate\n",
    "# Single statement while block\n",
    "count = 0\n",
    "while (count < 5): count += 1; print(\"Hello RBG\")"
   ]
  },
  {
   "cell_type": "markdown",
   "metadata": {},
   "source": [
    "# Continue statement\n",
    "\n",
    "Python \"continue\" statement returns the control to the begining of the loop. "
   ]
  },
  {
   "cell_type": "code",
   "execution_count": null,
   "metadata": {},
   "outputs": [],
   "source": [
    "## Example\n",
    "i = 0\n",
    "x = 'WelcometoRBG'\n",
    "\n",
    "while i < len(x):\n",
    "    if x[i] == 't' or x[i] == 'o':\n",
    "        i += 1\n",
    "        continue\n",
    "        \n",
    "    print('current letter :', x[i])\n",
    "    i += 1\n",
    "    "
   ]
  },
  {
   "cell_type": "markdown",
   "metadata": {},
   "source": [
    "# Break Statement\n",
    "\n",
    "Python \"Break\" Statement brings control out of the loop."
   ]
  },
  {
   "cell_type": "code",
   "execution_count": null,
   "metadata": {},
   "outputs": [],
   "source": [
    "# break the loop as soon it sees 'R' or 'B'\n",
    "i = 0\n",
    "a = 'welcometoRBG'\n",
    " \n",
    "while i < len(a):\n",
    "    if a[i] == 'R' or a[i] == 'B':\n",
    "        i += 1\n",
    "        break\n",
    "         \n",
    "    print('Current Letter :', a[i])\n",
    "    i += 1"
   ]
  },
  {
   "cell_type": "markdown",
   "metadata": {},
   "source": [
    "# Pass Statement\n",
    "\n",
    "The Python \"pass\" statement to write empty loops. Pass is also used for empty control statements, functions, and classes."
   ]
  },
  {
   "cell_type": "code",
   "execution_count": null,
   "metadata": {},
   "outputs": [],
   "source": [
    "# An empty loop\n",
    "a = 'welcometoRBG'\n",
    "i = 0\n",
    " \n",
    "while i < len(a):\n",
    "    i += 1\n",
    "    pass\n",
    "   \n",
    "print('Value of i :', i)"
   ]
  },
  {
   "cell_type": "markdown",
   "metadata": {},
   "source": [
    "# While loop with else\n",
    "\n",
    "As discussed above, while loop executes the block until a condition is satisfied. When the condition becomes false, the statement immediately after the loop is executed. The else clause is only executed when your while condition becomes false. If you break out of the loop, or if an exception is raised, it won’t be executed.\n",
    "\n",
    "Note: The else block just after for/while is executed only when the loop is NOT terminated by a break statement. "
   ]
  },
  {
   "cell_type": "code",
   "execution_count": null,
   "metadata": {},
   "outputs": [],
   "source": [
    "# Python program to demonstrate\n",
    "# while-else loop\n",
    " \n",
    "i = 0\n",
    "while i < 4:\n",
    "    i += 1\n",
    "    print(i)\n",
    "else:  # Executed because no break in while\n",
    "    print(\"No Break\\n\")\n",
    " \n",
    "i = 0\n",
    "while i < 4:\n",
    "    i += 1\n",
    "    print(i)\n",
    "    break\n",
    "else:  # Not executed as there is a break\n",
    "    print(\"No Break\")"
   ]
  }
 ],
 "metadata": {
  "kernelspec": {
   "display_name": "Python 3 (ipykernel)",
   "language": "python",
   "name": "python3"
  },
  "language_info": {
   "codemirror_mode": {
    "name": "ipython",
    "version": 3
   },
   "file_extension": ".py",
   "mimetype": "text/x-python",
   "name": "python",
   "nbconvert_exporter": "python",
   "pygments_lexer": "ipython3",
   "version": "3.9.7"
  }
 },
 "nbformat": 4,
 "nbformat_minor": 4
}
