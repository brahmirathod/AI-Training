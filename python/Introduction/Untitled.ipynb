{
 "cells": [
  {
   "cell_type": "markdown",
   "id": "73d8e9eb",
   "metadata": {},
   "source": [
    "# Python"
   ]
  },
  {
   "cell_type": "markdown",
   "id": "57f7140a",
   "metadata": {},
   "source": [
    "Introduction\n",
    "\n",
    "Python is a programming language that is commonly used to create websites and software, automate tasks, and perform data analysis. Python is a general-purpose programming language, which means it can be used to develop a wide range of applications and isn't tailored to any particular issue.\n",
    "\n",
    "Contents\n",
    " \n",
    "Introduction\n",
    "  Python Introduction \n",
    "  Control flow\n",
    "  Data Types\n",
    "  File Handling \n",
    "\n",
    "MatPlotLib\n",
    "  MatPlotLib Introduction\n",
    "  MatplotLib Visualizations\n",
    " \n",
    "NumPy\n",
    "  NumPy Introduction\n",
    "  NumPy Basics\n",
    "  NumPy Linear Algebra\n",
    "  \n",
    "Pandas\n",
    "  Pandas Introduction\n",
    "  Pandas Series\n",
    "  Pandas Data frame\n",
    "  Pandas Visualizations\n",
    "  Advanced Pandas\n",
    "  \n",
    "Seaborn\n",
    "  Seaborn Introduction\n",
    "  Seaborn Visualizations\n",
    "\n",
    "\n",
    "\n",
    "CONTROL FLOW\n",
    "\n",
    "In programming languages, decision-making statements determine the course of programme execution. The if else elif statement is used to make decisions in Python.\n",
    "\n",
    "If Statement \n",
    "\n",
    "The simplest decision-making statement is the \"if\" statement. It is used to determine if a statement or a block of statements will be executed or not, i.e., if a condition is true, a block of statements will be performed; otherwise, it will not.\n",
    "\n",
    "After examination, the condition will be either true or false. The \"if\" statement takes boolean values; if the value is true, the block of statements below it will be executed; otherwise, it will not. We may also use a condition using the bracket '(' ')'.\n",
    "\n",
    "Python utilises indentation to distinguish blocks, as we all know. As seen in the example below, the block behind an if statement will be identified:\n",
    "\n"
   ]
  }
 ],
 "metadata": {
  "kernelspec": {
   "display_name": "Python 3 (ipykernel)",
   "language": "python",
   "name": "python3"
  },
  "language_info": {
   "codemirror_mode": {
    "name": "ipython",
    "version": 3
   },
   "file_extension": ".py",
   "mimetype": "text/x-python",
   "name": "python",
   "nbconvert_exporter": "python",
   "pygments_lexer": "ipython3",
   "version": "3.9.7"
  }
 },
 "nbformat": 4,
 "nbformat_minor": 5
}
