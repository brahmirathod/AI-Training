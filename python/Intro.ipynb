{
 "cells": [
  {
   "cell_type": "markdown",
   "id": "5cde6bcd",
   "metadata": {},
   "source": [
    "# Python"
   ]
  },
  {
   "attachments": {},
   "cell_type": "markdown",
   "id": "a4b36a39",
   "metadata": {},
   "source": [
    "Introduction\n",
    "\n",
    "Python is a programming language that is commonly used to create websites and software, automate tasks, and perform data analysis. Python is a general-purpose programming language, which means it can be used to develop a wide range of applications and isn't tailored to any particular issue.\n",
    "\n",
    "Contents\n",
    " \n",
    "Introduction\n",
    "  Python Introduction \n",
    "  Control flow\n",
    "  Data Types\n",
    "  File Handling \n",
    "\n",
    "MatPlotLib\n",
    "  MatPlotLib Introduction\n",
    "  MatplotLib Visualizations\n",
    " \n",
    "NumPy\n",
    "  NumPy Introduction\n",
    "  NumPy Basics\n",
    "  NumPy Linear Algebra\n",
    "  \n",
    "Pandas\n",
    "  Pandas Introduction\n",
    "  Pandas Series\n",
    "  Pandas Data frame\n",
    "  Pandas Visualizations\n",
    "  Advanced Pandas\n",
    "  \n",
    "Seaborn\n",
    "  Seaborn Introduction\n",
    "  Seaborn Visualizations\n",
    "\n",
    "\n",
    "CONTROL FLOW\n",
    "\n",
    "In programming languages, decision-making statements determine the course of programme execution. The if else elif statement is used to make decisions in Python.\n",
    "\n",
    "IF Statement \n",
    "\n",
    "The simplest decision-making statement is the \"if\" statement. It is used to determine if a statement or a block of statements will be executed or not, i.e., if a condition is true, a block of statements will be performed; otherwise, it will not.\n",
    "\n",
    "After examination, the condition will be either true or false. The \"if\" statement takes boolean values; if the value is true, the block of statements below it will be executed; otherwise, it will not. We may also use a condition using the bracket '(' ')'.\n",
    "\n",
    "Python utilises indentation to distinguish blocks, as we all know. As seen in the example below, the block behind an if statement will be identified:\n",
    "\n",
    "IMPLEMENTATION:\n",
    "\n",
    "#if test expression:\n",
    "    statement(s)\n",
    "\n",
    "Here, the program evaluates the condition and will execute statement(s) only if the condition is True.\n",
    "\n",
    "If the condition is False, the statement(s) is not executed.\n",
    "\n",
    "In Python, the body of the if statement is indicated by the indentation. The body starts with an indentation and the first unindented line marks the end.\n",
    "\n",
    "Python interprets non-zero values as True. None and 0 are interpreted as False.\n",
    "\n",
    "Here if the condition is true, if block will consider only statement1 to be inside its block.\n",
    "\n"
   ]
  },
  {
   "cell_type": "code",
   "execution_count": 14,
   "id": "9236ff7c",
   "metadata": {},
   "outputs": [
    {
     "ename": "NameError",
     "evalue": "name 'condition' is not defined",
     "output_type": "error",
     "traceback": [
      "\u001b[0;31m---------------------------------------------------------------------------\u001b[0m",
      "\u001b[0;31mNameError\u001b[0m                                 Traceback (most recent call last)",
      "\u001b[0;32m/var/folders/kf/v9k59w1538s3y2l_0jk5x0br0000gn/T/ipykernel_5105/2107389938.py\u001b[0m in \u001b[0;36m<module>\u001b[0;34m\u001b[0m\n\u001b[1;32m      1\u001b[0m \u001b[0;31m## Syntax for if statement\u001b[0m\u001b[0;34m\u001b[0m\u001b[0;34m\u001b[0m\u001b[0m\n\u001b[0;32m----> 2\u001b[0;31m \u001b[0;32mif\u001b[0m \u001b[0mcondition\u001b[0m\u001b[0;34m:\u001b[0m\u001b[0;34m\u001b[0m\u001b[0;34m\u001b[0m\u001b[0m\n\u001b[0m\u001b[1;32m      3\u001b[0m    \u001b[0mstatement1\u001b[0m\u001b[0;34m\u001b[0m\u001b[0;34m\u001b[0m\u001b[0m\n\u001b[1;32m      4\u001b[0m \u001b[0mstatement2\u001b[0m\u001b[0;34m\u001b[0m\u001b[0;34m\u001b[0m\u001b[0m\n",
      "\u001b[0;31mNameError\u001b[0m: name 'condition' is not defined"
     ]
    }
   ],
   "source": [
    "## Syntax for if statement\n",
    "if condition:\n",
    "   statement1\n",
    "statement2\n"
   ]
  },
  {
   "cell_type": "code",
   "execution_count": 16,
   "id": "337c10e7",
   "metadata": {},
   "outputs": [
    {
     "name": "stdout",
     "output_type": "stream",
     "text": [
      "I am Not in if\n"
     ]
    }
   ],
   "source": [
    "# Example of if statement\n",
    "\n",
    "# python program to illustrate If statement\n",
    "i = 10\n",
    " \n",
    "if (i > 15):\n",
    "    print(\"10 is less than 15\")\n",
    "print(\"I am Not in if\")\n",
    "\n",
    "## As the condition present in the if statement is false. So, the block below the if statement is not executed."
   ]
  },
  {
   "cell_type": "markdown",
   "id": "058acffc",
   "metadata": {},
   "source": [
    "IF-ELSE Statement\n",
    "\n",
    "Whenever a \"if\" condition is true, the if statement will execute a block of statements; if the condition is false, the if statement will not. But what if the condition is false and we want to do something else? \n",
    "\n",
    "This is when the \"else\" statement comes in. We can use the \"else statement\" with \"if statement\" to execute a block of code \n",
    "\n",
    "IMPLEMENTATION:\n",
    "\n",
    "#if test expression:\n",
    "    Body of if\n",
    "else:\n",
    "    Body of else\n",
    "    \n",
    "The if..else statement evaluates test expression and will execute the body of if only when the test condition is True.\n",
    "\n",
    "If the condition is False, the body of else is executed. Indentation is used to separate the blocks.\n"
   ]
  }
 ],
 "metadata": {
  "kernelspec": {
   "display_name": "Python 3 (ipykernel)",
   "language": "python",
   "name": "python3"
  },
  "language_info": {
   "codemirror_mode": {
    "name": "ipython",
    "version": 3
   },
   "file_extension": ".py",
   "mimetype": "text/x-python",
   "name": "python",
   "nbconvert_exporter": "python",
   "pygments_lexer": "ipython3",
   "version": "3.9.7"
  }
 },
 "nbformat": 4,
 "nbformat_minor": 5
}
